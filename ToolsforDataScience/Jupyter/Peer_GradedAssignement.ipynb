{
 "cells": [
  {
   "cell_type": "markdown",
   "metadata": {},
   "source": [
    "# My Jupyter Notebook on IBM Watson Studio"
   ]
  },
  {
   "cell_type": "markdown",
   "metadata": {},
   "source": [
    "__Carlos Meisel__\n",
    "\n",
    "My current occupation is a Data Researching Assistant at Texas A&M University NeuroErogonimcs Laboratory. My desired occupation is a Data Scientist or Data Engineer at a company that is interested in the use of Machine Learning and Data Science."
   ]
  },
  {
   "cell_type": "markdown",
   "metadata": {},
   "source": [
    "*I am interested in Data Science because of the broad range of applications that it can provide. The field of Data Science is rapidly evolving, no two Data Scientist roles are exactly alike. I am particularly interested in the blending of Biotechnology and Machine Learning. I hope to obtain a position where I am continously learning and growing as an engineer.*"
   ]
  },
  {
   "cell_type": "markdown",
   "metadata": {},
   "source": [
    "The code cell below wil add 1+1 and assign that value to the variable \"sum\"."
   ]
  },
  {
   "cell_type": "code",
   "execution_count": 4,
   "metadata": {},
   "outputs": [
    {
     "data": {
      "text/plain": [
       "2"
      ]
     },
     "execution_count": 4,
     "metadata": {},
     "output_type": "execute_result"
    }
   ],
   "source": [
    "sum = 1+1\n",
    "sum"
   ]
  },
  {
   "cell_type": "markdown",
   "metadata": {},
   "source": [
    "### Bullet Points \n",
    "* Bullet Point 1\n",
    "* Bullet Point 2\n",
    "* Bullet Point 3\n",
    "\n",
    "### Code text\n",
    "    \n",
    "    import numpy as np\n",
    "    from math import *\n",
    "    value = sin(pi/2)\n",
    "    sum = value + 1\n",
    "    print(sum)\n",
    "\n",
    "### Table \n",
    "| Cool Column  | Really Cool Column | Coolest Column |\n",
    "| -------- | -------- | -------- |\n",
    "| Cool Text     | Really Cool Text     | Coolest Text     |\n",
    "| Cool Text     | Really Cool Text     | Coolest Text     |\n",
    "| Cool Text     | Really Cool Text     | Coolest Text     |"
   ]
  }
 ],
 "metadata": {
  "kernelspec": {
   "display_name": "Python 3.7.1 ('base')",
   "language": "python",
   "name": "python3"
  },
  "language_info": {
   "codemirror_mode": {
    "name": "ipython",
    "version": 3
   },
   "file_extension": ".py",
   "mimetype": "text/x-python",
   "name": "python",
   "nbconvert_exporter": "python",
   "pygments_lexer": "ipython3",
   "version": "3.7.1"
  },
  "orig_nbformat": 4,
  "vscode": {
   "interpreter": {
    "hash": "fe6f22945cfc871c9399bf7d9f19a00d7d184a1ba9bcdcec8f1d4899546bde82"
   }
  }
 },
 "nbformat": 4,
 "nbformat_minor": 2
}
